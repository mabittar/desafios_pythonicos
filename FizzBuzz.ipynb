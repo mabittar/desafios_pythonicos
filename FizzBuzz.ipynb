{
  "nbformat": 4,
  "nbformat_minor": 0,
  "metadata": {
    "colab": {
      "name": "FizzBuzz.ipynb",
      "provenance": [],
      "collapsed_sections": [],
      "authorship_tag": "ABX9TyMzLyM7qTV9PS640IFXNDN0",
      "include_colab_link": true
    },
    "kernelspec": {
      "display_name": "Python 3",
      "name": "python3"
    }
  },
  "cells": [
    {
      "cell_type": "markdown",
      "metadata": {
        "id": "view-in-github",
        "colab_type": "text"
      },
      "source": [
        "<a href=\"https://colab.research.google.com/github/mabittar/desafios_pythonicos/blob/master/FizzBuzz.ipynb\" target=\"_parent\"><img src=\"https://colab.research.google.com/assets/colab-badge.svg\" alt=\"Open In Colab\"/></a>"
      ]
    },
    {
      "cell_type": "code",
      "metadata": {
        "id": "4VKDMkOd6Zjh"
      },
      "source": [
        "# método 1\r\n",
        "def fizzbuzz(limit = 101):\r\n",
        "  for i in range (1, limit):\r\n",
        "    print(\"Fizz\"*(i%3<1)+(i%5<1)*\"Buzz\" or i)\r\n",
        "# para saída basta chamar (fizzbuzz(limit))"
      ],
      "execution_count": null,
      "outputs": []
    },
    {
      "cell_type": "code",
      "metadata": {
        "id": "dmomh1r-OsRF"
      },
      "source": [
        "# organizado a função\r\n",
        "def fizzbuzz(limit = 101):\r\n",
        "  out = []\r\n",
        "  for i in range (1, limit):\r\n",
        "    out.append(\"Fizz\"*(i%3<1)+(i%5<1)*\"Buzz\" or i)\r\n",
        "  return out"
      ],
      "execution_count": 23,
      "outputs": []
    },
    {
      "cell_type": "code",
      "metadata": {
        "colab": {
          "base_uri": "https://localhost:8080/"
        },
        "id": "MXvuF_1H4033",
        "outputId": "4c3cb383-5917-4019-f928-1522a4602c6a"
      },
      "source": [
        "# para manter a mesma saída\r\n",
        "print(\"\\n\".join(str(v) for v in fizzbuzz(31)))"
      ],
      "execution_count": 27,
      "outputs": [
        {
          "output_type": "stream",
          "text": [
            "1\n",
            "2\n",
            "Fizz\n",
            "4\n",
            "Buzz\n",
            "Fizz\n",
            "7\n",
            "8\n",
            "Fizz\n",
            "Buzz\n",
            "11\n",
            "Fizz\n",
            "13\n",
            "14\n",
            "FizzBuzz\n",
            "16\n",
            "17\n",
            "Fizz\n",
            "19\n",
            "Buzz\n",
            "Fizz\n",
            "22\n",
            "23\n",
            "Fizz\n",
            "Buzz\n",
            "26\n",
            "Fizz\n",
            "28\n",
            "29\n",
            "FizzBuzz\n"
          ],
          "name": "stdout"
        }
      ]
    },
    {
      "cell_type": "code",
      "metadata": {
        "id": "fz9Waxx_45wF"
      },
      "source": [
        ""
      ],
      "execution_count": null,
      "outputs": []
    }
  ]
}